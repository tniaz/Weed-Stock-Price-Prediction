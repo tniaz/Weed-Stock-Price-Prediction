{
 "cells": [
  {
   "cell_type": "markdown",
   "metadata": {},
   "source": [
    "Importing required packages"
   ]
  },
  {
   "cell_type": "code",
   "execution_count": 1,
   "metadata": {},
   "outputs": [],
   "source": [
    "from pandas_datareader import data\n",
    "import fix_yahoo_finance as yf"
   ]
  },
  {
   "cell_type": "markdown",
   "metadata": {},
   "source": [
    "Pulling Yahoo data"
   ]
  },
  {
   "cell_type": "code",
   "execution_count": 2,
   "metadata": {},
   "outputs": [],
   "source": [
    "#function to pull Yahoo data, format and save to csv file\n",
    "def getdata(symbol, start_date,end_date):\n",
    "    yf.pdr_override() \n",
    "    df = data.get_data_yahoo(symbol, start_date, end_date)\n",
    "    stock_data= df[['Adj Close', 'Volume']].copy()\n",
    "    stock_data.set_index(df.index)\n",
    "    stock_data.to_csv('weedstockdata.csv')\n",
    "    return stock_data"
   ]
  },
  {
   "cell_type": "code",
   "execution_count": 3,
   "metadata": {},
   "outputs": [
    {
     "name": "stdout",
     "output_type": "stream",
     "text": [
      "[*********************100%***********************]  1 of 1 downloaded\n"
     ]
    }
   ],
   "source": [
    "stock_data=getdata('WEED.TO', '2018-08-01','2018-09-01')"
   ]
  },
  {
   "cell_type": "code",
   "execution_count": 4,
   "metadata": {},
   "outputs": [
    {
     "name": "stdout",
     "output_type": "stream",
     "text": [
      "            Adj Close    Volume\n",
      "Date                           \n",
      "2018-08-01  33.560001   2212300\n",
      "2018-08-02  34.400002   2396400\n",
      "2018-08-03  33.849998   1750300\n",
      "2018-08-07  34.259998   2196900\n",
      "2018-08-08  35.810001   3536600\n",
      "2018-08-09  37.250000   3442400\n",
      "2018-08-10  37.000000   2398300\n",
      "2018-08-13  35.040001   3361200\n",
      "2018-08-14  32.150002   5075700\n",
      "2018-08-15  42.200001  18390300\n",
      "2018-08-16  40.680000   8583000\n",
      "2018-08-17  44.180000   8420400\n",
      "2018-08-20  49.020000  12667300\n",
      "2018-08-21  50.259998  12062900\n",
      "2018-08-22  52.099998  10547000\n",
      "2018-08-23  54.299999  11232000\n",
      "2018-08-24  58.619999  14694000\n",
      "2018-08-27  60.000000  12584600\n",
      "2018-08-28  55.900002  12932700\n",
      "2018-08-29  59.770000  10153900\n",
      "2018-08-30  57.680000   9987800\n",
      "2018-08-31  59.639999   8365000\n"
     ]
    }
   ],
   "source": [
    "print (stock_data)"
   ]
  }
 ],
 "metadata": {
  "kernelspec": {
   "display_name": "Python 3",
   "language": "python",
   "name": "python3"
  },
  "language_info": {
   "codemirror_mode": {
    "name": "ipython",
    "version": 3
   },
   "file_extension": ".py",
   "mimetype": "text/x-python",
   "name": "python",
   "nbconvert_exporter": "python",
   "pygments_lexer": "ipython3",
   "version": "3.6.5"
  }
 },
 "nbformat": 4,
 "nbformat_minor": 2
}
